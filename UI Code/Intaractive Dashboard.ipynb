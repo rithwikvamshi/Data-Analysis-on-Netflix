{
 "cells": [
  {
   "cell_type": "markdown",
   "id": "b492cd64",
   "metadata": {},
   "source": [
    "# UI for Interactive dashboard for Datascince Project"
   ]
  },
  {
   "cell_type": "markdown",
   "id": "bbf6c1e9",
   "metadata": {},
   "source": [
    "## INTRODUCTION"
   ]
  },
  {
   "cell_type": "markdown",
   "id": "d971d578",
   "metadata": {},
   "source": [
    "This project aims to uncover patterns in Netflix's vast library of films and TV shows, exploring how content types have evolved over time and identifying popular genres across different regions. We are creating visualisations to show what we found in Netflix's huge collection of shows and movies. We're aiming to spot the connections and hidden gems that could help Netflix know what its viewers are really into. The ultimate goal is to offer Netflix a strategic tool for content curation and optimization, thereby elevating viewer satisfaction and engagement. This project not only promises to refine Netflix's recommendation algorithms but also aspires to enrich the viewer's streaming experience. \n"
   ]
  },
  {
   "cell_type": "markdown",
   "id": "81c06be4",
   "metadata": {},
   "source": [
    "### DATA IMPORT"
   ]
  },
  {
   "cell_type": "code",
   "execution_count": 1,
   "id": "c042baac",
   "metadata": {},
   "outputs": [],
   "source": [
    "import pandas as pd\n",
    "import numpy as np\n",
    "from wordcloud import WordCloud, STOPWORDS\n",
    "import random\n",
    "import matplotlib.pyplot as plt\n",
    "import seaborn as sns"
   ]
  },
  {
   "cell_type": "code",
   "execution_count": 2,
   "id": "bf5fd19c",
   "metadata": {},
   "outputs": [
    {
     "ename": "FileNotFoundError",
     "evalue": "[Errno 2] No such file or directory: 'netflix_titles.csv'",
     "output_type": "error",
     "traceback": [
      "\u001b[0;31m---------------------------------------------------------------------------\u001b[0m",
      "\u001b[0;31mFileNotFoundError\u001b[0m                         Traceback (most recent call last)",
      "Cell \u001b[0;32mIn[2], line 1\u001b[0m\n\u001b[0;32m----> 1\u001b[0m netflix_titles_df \u001b[38;5;241m=\u001b[39m pd\u001b[38;5;241m.\u001b[39mread_csv(\u001b[38;5;124m'\u001b[39m\u001b[38;5;124mnetflix_titles.csv\u001b[39m\u001b[38;5;124m'\u001b[39m)\n\u001b[1;32m      2\u001b[0m netflix_imdb_df \u001b[38;5;241m=\u001b[39m pd\u001b[38;5;241m.\u001b[39mread_csv(\u001b[38;5;124m'\u001b[39m\u001b[38;5;124mnetflix-imdb.csv\u001b[39m\u001b[38;5;124m'\u001b[39m)\n",
      "File \u001b[0;32m~/anaconda3/lib/python3.11/site-packages/pandas/util/_decorators.py:211\u001b[0m, in \u001b[0;36mdeprecate_kwarg.<locals>._deprecate_kwarg.<locals>.wrapper\u001b[0;34m(*args, **kwargs)\u001b[0m\n\u001b[1;32m    209\u001b[0m     \u001b[38;5;28;01melse\u001b[39;00m:\n\u001b[1;32m    210\u001b[0m         kwargs[new_arg_name] \u001b[38;5;241m=\u001b[39m new_arg_value\n\u001b[0;32m--> 211\u001b[0m \u001b[38;5;28;01mreturn\u001b[39;00m func(\u001b[38;5;241m*\u001b[39margs, \u001b[38;5;241m*\u001b[39m\u001b[38;5;241m*\u001b[39mkwargs)\n",
      "File \u001b[0;32m~/anaconda3/lib/python3.11/site-packages/pandas/util/_decorators.py:331\u001b[0m, in \u001b[0;36mdeprecate_nonkeyword_arguments.<locals>.decorate.<locals>.wrapper\u001b[0;34m(*args, **kwargs)\u001b[0m\n\u001b[1;32m    325\u001b[0m \u001b[38;5;28;01mif\u001b[39;00m \u001b[38;5;28mlen\u001b[39m(args) \u001b[38;5;241m>\u001b[39m num_allow_args:\n\u001b[1;32m    326\u001b[0m     warnings\u001b[38;5;241m.\u001b[39mwarn(\n\u001b[1;32m    327\u001b[0m         msg\u001b[38;5;241m.\u001b[39mformat(arguments\u001b[38;5;241m=\u001b[39m_format_argument_list(allow_args)),\n\u001b[1;32m    328\u001b[0m         \u001b[38;5;167;01mFutureWarning\u001b[39;00m,\n\u001b[1;32m    329\u001b[0m         stacklevel\u001b[38;5;241m=\u001b[39mfind_stack_level(),\n\u001b[1;32m    330\u001b[0m     )\n\u001b[0;32m--> 331\u001b[0m \u001b[38;5;28;01mreturn\u001b[39;00m func(\u001b[38;5;241m*\u001b[39margs, \u001b[38;5;241m*\u001b[39m\u001b[38;5;241m*\u001b[39mkwargs)\n",
      "File \u001b[0;32m~/anaconda3/lib/python3.11/site-packages/pandas/io/parsers/readers.py:950\u001b[0m, in \u001b[0;36mread_csv\u001b[0;34m(filepath_or_buffer, sep, delimiter, header, names, index_col, usecols, squeeze, prefix, mangle_dupe_cols, dtype, engine, converters, true_values, false_values, skipinitialspace, skiprows, skipfooter, nrows, na_values, keep_default_na, na_filter, verbose, skip_blank_lines, parse_dates, infer_datetime_format, keep_date_col, date_parser, dayfirst, cache_dates, iterator, chunksize, compression, thousands, decimal, lineterminator, quotechar, quoting, doublequote, escapechar, comment, encoding, encoding_errors, dialect, error_bad_lines, warn_bad_lines, on_bad_lines, delim_whitespace, low_memory, memory_map, float_precision, storage_options)\u001b[0m\n\u001b[1;32m    935\u001b[0m kwds_defaults \u001b[38;5;241m=\u001b[39m _refine_defaults_read(\n\u001b[1;32m    936\u001b[0m     dialect,\n\u001b[1;32m    937\u001b[0m     delimiter,\n\u001b[0;32m   (...)\u001b[0m\n\u001b[1;32m    946\u001b[0m     defaults\u001b[38;5;241m=\u001b[39m{\u001b[38;5;124m\"\u001b[39m\u001b[38;5;124mdelimiter\u001b[39m\u001b[38;5;124m\"\u001b[39m: \u001b[38;5;124m\"\u001b[39m\u001b[38;5;124m,\u001b[39m\u001b[38;5;124m\"\u001b[39m},\n\u001b[1;32m    947\u001b[0m )\n\u001b[1;32m    948\u001b[0m kwds\u001b[38;5;241m.\u001b[39mupdate(kwds_defaults)\n\u001b[0;32m--> 950\u001b[0m \u001b[38;5;28;01mreturn\u001b[39;00m _read(filepath_or_buffer, kwds)\n",
      "File \u001b[0;32m~/anaconda3/lib/python3.11/site-packages/pandas/io/parsers/readers.py:605\u001b[0m, in \u001b[0;36m_read\u001b[0;34m(filepath_or_buffer, kwds)\u001b[0m\n\u001b[1;32m    602\u001b[0m _validate_names(kwds\u001b[38;5;241m.\u001b[39mget(\u001b[38;5;124m\"\u001b[39m\u001b[38;5;124mnames\u001b[39m\u001b[38;5;124m\"\u001b[39m, \u001b[38;5;28;01mNone\u001b[39;00m))\n\u001b[1;32m    604\u001b[0m \u001b[38;5;66;03m# Create the parser.\u001b[39;00m\n\u001b[0;32m--> 605\u001b[0m parser \u001b[38;5;241m=\u001b[39m TextFileReader(filepath_or_buffer, \u001b[38;5;241m*\u001b[39m\u001b[38;5;241m*\u001b[39mkwds)\n\u001b[1;32m    607\u001b[0m \u001b[38;5;28;01mif\u001b[39;00m chunksize \u001b[38;5;129;01mor\u001b[39;00m iterator:\n\u001b[1;32m    608\u001b[0m     \u001b[38;5;28;01mreturn\u001b[39;00m parser\n",
      "File \u001b[0;32m~/anaconda3/lib/python3.11/site-packages/pandas/io/parsers/readers.py:1442\u001b[0m, in \u001b[0;36mTextFileReader.__init__\u001b[0;34m(self, f, engine, **kwds)\u001b[0m\n\u001b[1;32m   1439\u001b[0m     \u001b[38;5;28mself\u001b[39m\u001b[38;5;241m.\u001b[39moptions[\u001b[38;5;124m\"\u001b[39m\u001b[38;5;124mhas_index_names\u001b[39m\u001b[38;5;124m\"\u001b[39m] \u001b[38;5;241m=\u001b[39m kwds[\u001b[38;5;124m\"\u001b[39m\u001b[38;5;124mhas_index_names\u001b[39m\u001b[38;5;124m\"\u001b[39m]\n\u001b[1;32m   1441\u001b[0m \u001b[38;5;28mself\u001b[39m\u001b[38;5;241m.\u001b[39mhandles: IOHandles \u001b[38;5;241m|\u001b[39m \u001b[38;5;28;01mNone\u001b[39;00m \u001b[38;5;241m=\u001b[39m \u001b[38;5;28;01mNone\u001b[39;00m\n\u001b[0;32m-> 1442\u001b[0m \u001b[38;5;28mself\u001b[39m\u001b[38;5;241m.\u001b[39m_engine \u001b[38;5;241m=\u001b[39m \u001b[38;5;28mself\u001b[39m\u001b[38;5;241m.\u001b[39m_make_engine(f, \u001b[38;5;28mself\u001b[39m\u001b[38;5;241m.\u001b[39mengine)\n",
      "File \u001b[0;32m~/anaconda3/lib/python3.11/site-packages/pandas/io/parsers/readers.py:1735\u001b[0m, in \u001b[0;36mTextFileReader._make_engine\u001b[0;34m(self, f, engine)\u001b[0m\n\u001b[1;32m   1733\u001b[0m     \u001b[38;5;28;01mif\u001b[39;00m \u001b[38;5;124m\"\u001b[39m\u001b[38;5;124mb\u001b[39m\u001b[38;5;124m\"\u001b[39m \u001b[38;5;129;01mnot\u001b[39;00m \u001b[38;5;129;01min\u001b[39;00m mode:\n\u001b[1;32m   1734\u001b[0m         mode \u001b[38;5;241m+\u001b[39m\u001b[38;5;241m=\u001b[39m \u001b[38;5;124m\"\u001b[39m\u001b[38;5;124mb\u001b[39m\u001b[38;5;124m\"\u001b[39m\n\u001b[0;32m-> 1735\u001b[0m \u001b[38;5;28mself\u001b[39m\u001b[38;5;241m.\u001b[39mhandles \u001b[38;5;241m=\u001b[39m get_handle(\n\u001b[1;32m   1736\u001b[0m     f,\n\u001b[1;32m   1737\u001b[0m     mode,\n\u001b[1;32m   1738\u001b[0m     encoding\u001b[38;5;241m=\u001b[39m\u001b[38;5;28mself\u001b[39m\u001b[38;5;241m.\u001b[39moptions\u001b[38;5;241m.\u001b[39mget(\u001b[38;5;124m\"\u001b[39m\u001b[38;5;124mencoding\u001b[39m\u001b[38;5;124m\"\u001b[39m, \u001b[38;5;28;01mNone\u001b[39;00m),\n\u001b[1;32m   1739\u001b[0m     compression\u001b[38;5;241m=\u001b[39m\u001b[38;5;28mself\u001b[39m\u001b[38;5;241m.\u001b[39moptions\u001b[38;5;241m.\u001b[39mget(\u001b[38;5;124m\"\u001b[39m\u001b[38;5;124mcompression\u001b[39m\u001b[38;5;124m\"\u001b[39m, \u001b[38;5;28;01mNone\u001b[39;00m),\n\u001b[1;32m   1740\u001b[0m     memory_map\u001b[38;5;241m=\u001b[39m\u001b[38;5;28mself\u001b[39m\u001b[38;5;241m.\u001b[39moptions\u001b[38;5;241m.\u001b[39mget(\u001b[38;5;124m\"\u001b[39m\u001b[38;5;124mmemory_map\u001b[39m\u001b[38;5;124m\"\u001b[39m, \u001b[38;5;28;01mFalse\u001b[39;00m),\n\u001b[1;32m   1741\u001b[0m     is_text\u001b[38;5;241m=\u001b[39mis_text,\n\u001b[1;32m   1742\u001b[0m     errors\u001b[38;5;241m=\u001b[39m\u001b[38;5;28mself\u001b[39m\u001b[38;5;241m.\u001b[39moptions\u001b[38;5;241m.\u001b[39mget(\u001b[38;5;124m\"\u001b[39m\u001b[38;5;124mencoding_errors\u001b[39m\u001b[38;5;124m\"\u001b[39m, \u001b[38;5;124m\"\u001b[39m\u001b[38;5;124mstrict\u001b[39m\u001b[38;5;124m\"\u001b[39m),\n\u001b[1;32m   1743\u001b[0m     storage_options\u001b[38;5;241m=\u001b[39m\u001b[38;5;28mself\u001b[39m\u001b[38;5;241m.\u001b[39moptions\u001b[38;5;241m.\u001b[39mget(\u001b[38;5;124m\"\u001b[39m\u001b[38;5;124mstorage_options\u001b[39m\u001b[38;5;124m\"\u001b[39m, \u001b[38;5;28;01mNone\u001b[39;00m),\n\u001b[1;32m   1744\u001b[0m )\n\u001b[1;32m   1745\u001b[0m \u001b[38;5;28;01massert\u001b[39;00m \u001b[38;5;28mself\u001b[39m\u001b[38;5;241m.\u001b[39mhandles \u001b[38;5;129;01mis\u001b[39;00m \u001b[38;5;129;01mnot\u001b[39;00m \u001b[38;5;28;01mNone\u001b[39;00m\n\u001b[1;32m   1746\u001b[0m f \u001b[38;5;241m=\u001b[39m \u001b[38;5;28mself\u001b[39m\u001b[38;5;241m.\u001b[39mhandles\u001b[38;5;241m.\u001b[39mhandle\n",
      "File \u001b[0;32m~/anaconda3/lib/python3.11/site-packages/pandas/io/common.py:856\u001b[0m, in \u001b[0;36mget_handle\u001b[0;34m(path_or_buf, mode, encoding, compression, memory_map, is_text, errors, storage_options)\u001b[0m\n\u001b[1;32m    851\u001b[0m \u001b[38;5;28;01melif\u001b[39;00m \u001b[38;5;28misinstance\u001b[39m(handle, \u001b[38;5;28mstr\u001b[39m):\n\u001b[1;32m    852\u001b[0m     \u001b[38;5;66;03m# Check whether the filename is to be opened in binary mode.\u001b[39;00m\n\u001b[1;32m    853\u001b[0m     \u001b[38;5;66;03m# Binary mode does not support 'encoding' and 'newline'.\u001b[39;00m\n\u001b[1;32m    854\u001b[0m     \u001b[38;5;28;01mif\u001b[39;00m ioargs\u001b[38;5;241m.\u001b[39mencoding \u001b[38;5;129;01mand\u001b[39;00m \u001b[38;5;124m\"\u001b[39m\u001b[38;5;124mb\u001b[39m\u001b[38;5;124m\"\u001b[39m \u001b[38;5;129;01mnot\u001b[39;00m \u001b[38;5;129;01min\u001b[39;00m ioargs\u001b[38;5;241m.\u001b[39mmode:\n\u001b[1;32m    855\u001b[0m         \u001b[38;5;66;03m# Encoding\u001b[39;00m\n\u001b[0;32m--> 856\u001b[0m         handle \u001b[38;5;241m=\u001b[39m \u001b[38;5;28mopen\u001b[39m(\n\u001b[1;32m    857\u001b[0m             handle,\n\u001b[1;32m    858\u001b[0m             ioargs\u001b[38;5;241m.\u001b[39mmode,\n\u001b[1;32m    859\u001b[0m             encoding\u001b[38;5;241m=\u001b[39mioargs\u001b[38;5;241m.\u001b[39mencoding,\n\u001b[1;32m    860\u001b[0m             errors\u001b[38;5;241m=\u001b[39merrors,\n\u001b[1;32m    861\u001b[0m             newline\u001b[38;5;241m=\u001b[39m\u001b[38;5;124m\"\u001b[39m\u001b[38;5;124m\"\u001b[39m,\n\u001b[1;32m    862\u001b[0m         )\n\u001b[1;32m    863\u001b[0m     \u001b[38;5;28;01melse\u001b[39;00m:\n\u001b[1;32m    864\u001b[0m         \u001b[38;5;66;03m# Binary mode\u001b[39;00m\n\u001b[1;32m    865\u001b[0m         handle \u001b[38;5;241m=\u001b[39m \u001b[38;5;28mopen\u001b[39m(handle, ioargs\u001b[38;5;241m.\u001b[39mmode)\n",
      "\u001b[0;31mFileNotFoundError\u001b[0m: [Errno 2] No such file or directory: 'netflix_titles.csv'"
     ]
    }
   ],
   "source": [
    "netflix_titles_df = pd.read_csv('netflix_titles.csv')\n",
    "netflix_imdb_df = pd.read_csv('netflix-imdb.csv')"
   ]
  },
  {
   "cell_type": "code",
   "execution_count": null,
   "id": "a1d492ab",
   "metadata": {},
   "outputs": [],
   "source": [
    "#Cleaning the data\n",
    "netflix_titles_df['director'].fillna('Unknown', inplace=True)\n",
    "netflix_titles_df['cast'].fillna('Unknown', inplace=True)\n",
    "netflix_titles_df['country'].fillna('Unknown', inplace=True)\n",
    "netflix_titles_df['date_added'].fillna('Unknown', inplace=True)\n",
    "netflix_titles_df['rating'].fillna('Unknown', inplace=True)"
   ]
  },
  {
   "cell_type": "markdown",
   "id": "fb533a5e",
   "metadata": {},
   "source": [
    "### DATA MERGING"
   ]
  },
  {
   "cell_type": "code",
   "execution_count": null,
   "id": "a9355134",
   "metadata": {},
   "outputs": [],
   "source": [
    "final_df = netflix_titles_df.merge(netflix_imdb_df, on='title', how='inner')"
   ]
  },
  {
   "cell_type": "code",
   "execution_count": null,
   "id": "045a09a7",
   "metadata": {},
   "outputs": [],
   "source": [
    "headings =final_df.columns.tolist()\n",
    "print(headings)"
   ]
  },
  {
   "cell_type": "code",
   "execution_count": null,
   "id": "3ff66408",
   "metadata": {},
   "outputs": [],
   "source": [
    "final_df.head()"
   ]
  },
  {
   "cell_type": "code",
   "execution_count": null,
   "id": "8ddc831c",
   "metadata": {},
   "outputs": [],
   "source": [
    "#droping redundant columns\n",
    "columns_to_drop = [\"Netflix Release Date\", \"Series or Movie\", \"Director\", \"Actors\", \"View Rating\", \"Rotten Tomatoes Score\", \"Metacritic Score\", \"Release Date\", \"Summary\"] \n",
    "\n",
    "final_df = final_df.drop(columns=columns_to_drop)\n",
    "final_df.to_csv('final_df.csv', index=False)\n",
    "num_rows = final_df.shape[0]\n",
    "print(\"Number of rows in final_merged_df:\", num_rows)"
   ]
  },
  {
   "cell_type": "code",
   "execution_count": null,
   "id": "40a5d127",
   "metadata": {},
   "outputs": [],
   "source": [
    "import dash\n",
    "from dash import dcc, html, Input, Output, ctx\n",
    "import plotly.express as px\n",
    "import pandas as pd\n",
    "from wordcloud import WordCloud\n",
    "import base64\n",
    "from io import BytesIO\n",
    "\n",
    "final_df = final_df[(final_df['release_year'] >= 1980) & (final_df['release_year'] <= 2020)]\n",
    "\n",
    "final_df['Primary Genre'] = final_df['Genre'].apply(lambda x: x.split(',')[0] if pd.notnull(x) else 'Unknown')\n",
    "\n",
    "fig_bar = px.bar(\n",
    "    final_df.groupby(['release_year', 'type']).size().reset_index(name='count'),\n",
    "    x='release_year',\n",
    "    y='count',\n",
    "    color='type',\n",
    "    title='Distribution of Netflix Content by Type and Year',\n",
    "    color_discrete_map={'Movie': 'black', 'TV Show': 'red'}\n",
    ")\n",
    "\n",
    "# # Modify the trace names to remove the 'type' legend title\n",
    "# for trace in fig_bar.data:\n",
    "#     trace.name = trace.name.replace('Movie', 'M')\n",
    "#     trace.name = trace.name.replace('TV Show', 'TV')\n",
    "\n",
    "fig_bar.update_layout(\n",
    "    title={'text': 'Distribution of Netflix Content by Type and Year', 'x': 0.5},\n",
    "    legend=dict(\n",
    "        x=0,\n",
    "        y=0.95,\n",
    "        xanchor='left',\n",
    "        yanchor='top'\n",
    "    )\n",
    ")\n",
    "side_by_side_style = {'display': 'flex', 'flex-direction': 'row'}\n",
    "\n",
    "app = dash.Dash(__name__)\n",
    "\n",
    "app.layout = html.Div([\n",
    "    dcc.Graph(id='bar-chart', figure=fig_bar),\n",
    "    html.H3(id='word-cloud-title', style={'textAlign': 'right', 'color': '#ffffff'}),\n",
    "    html.Div([\n",
    "        dcc.Graph(id='scatter-plot', style={'flex': 1}), \n",
    "        html.Img(id='word-cloud', style={'flex': 1})     \n",
    "    ], style=side_by_side_style),\n",
    "    \n",
    "])\n",
    "\n",
    "# Callback to update the scatter plot based on selected year in the bar chart\n",
    "@app.callback(\n",
    "    Output('scatter-plot', 'figure'),\n",
    "    [Input('bar-chart', 'clickData')]\n",
    ")\n",
    "def update_scatter_plot(clickData):\n",
    "    # Check if the callback was triggered with valid click data\n",
    "    if clickData and 'points' in clickData and 'x' in clickData['points'][0]:\n",
    "        selected_year = clickData['points'][0]['x']\n",
    "        \n",
    "        df_selected_year = final_df[final_df['release_year'] == selected_year]\n",
    "        color_scale = ['black', '#8B0000', '#FF0000']\n",
    "        \n",
    "        if not df_selected_year.empty:\n",
    "            avg_scores = df_selected_year.groupby('Primary Genre')['IMDb Score'].mean().reset_index()\n",
    "            avg_scores = avg_scores.dropna(subset=['IMDb Score'])\n",
    "            avg_scores['IMDb Score'] = avg_scores['IMDb Score'].round(2)\n",
    "            \n",
    "            fig_scatter = px.scatter(\n",
    "                avg_scores,\n",
    "                x='Primary Genre',\n",
    "                y='IMDb Score',\n",
    "                size='IMDb Score',\n",
    "                color='IMDb Score',\n",
    "                title=f'Average IMDb Score by Primary Genre for {selected_year}',\n",
    "                color_continuous_scale=color_scale\n",
    "            )\n",
    "            fig_scatter.update_traces(marker=dict(line=dict(width=2, color='DarkSlateGrey')))\n",
    "            fig_scatter.update_layout(title={'text': f'Average IMDb Score by Primary Genre for {selected_year}', 'x': 0.5})\n",
    "            return fig_scatter\n",
    "        else:\n",
    "            fig_empty = px.scatter(title='Click on a year to see the average IMDb scores')\n",
    "            fig_empty.update_layout(title={'text': 'Click on a year to see the average IMDb scores', 'x': 0.5})\n",
    "            return fig_empty\n",
    "    fig_empty = px.scatter(title='Click on a year to see the average IMDb scores')\n",
    "    fig_empty.update_layout(title={'text': 'Click on a year to see the average IMDb scores', 'x': 0.5})\n",
    "    return fig_empty\n",
    "\n",
    "\n",
    "# Callback to update the word cloud based on selected genre in the scatter plot\n",
    "@app.callback(\n",
    "    [Output('word-cloud', 'src'),\n",
    "     Output('word-cloud-title', 'children')],\n",
    "    [Input('scatter-plot', 'clickData')]\n",
    ")\n",
    "def update_word_cloud(clickData):\n",
    "    if clickData:\n",
    "        selected_genre = clickData['points'][0]['x']\n",
    "        df_genre = final_df[final_df['Primary Genre'] == selected_genre]\n",
    "        text = ' '.join(df_genre['description'])\n",
    "        \n",
    "        def red_color_func(word, font_size, position, orientation, random_state=None, **kwargs):\n",
    "            return \"hsl(0, 100%%, %d%%)\" % random.randint(10, 50)\n",
    "        \n",
    "        wordcloud = WordCloud(width=800, height=400, background_color='black', color_func=red_color_func).generate(text)\n",
    "        img = BytesIO()\n",
    "        wordcloud.to_image().save(img, format='PNG')\n",
    "        src = 'data:image/png;base64,{}'.format(base64.b64encode(img.getvalue()).decode())\n",
    "        title = f'Word Cloud for \"{selected_genre}\" Genre'\n",
    "        return src, title\n",
    "    else:\n",
    "        return None, 'Select a genre to see the word cloud'\n",
    "    \n",
    "if __name__ == '__main__':\n",
    "    app.run_server(debug=True)"
   ]
  },
  {
   "cell_type": "code",
   "execution_count": null,
   "id": "27f5697d",
   "metadata": {},
   "outputs": [],
   "source": []
  },
  {
   "cell_type": "code",
   "execution_count": null,
   "id": "d7630d8d",
   "metadata": {},
   "outputs": [],
   "source": []
  }
 ],
 "metadata": {
  "kernelspec": {
   "display_name": "Python 3 (ipykernel)",
   "language": "python",
   "name": "python3"
  },
  "language_info": {
   "codemirror_mode": {
    "name": "ipython",
    "version": 3
   },
   "file_extension": ".py",
   "mimetype": "text/x-python",
   "name": "python",
   "nbconvert_exporter": "python",
   "pygments_lexer": "ipython3",
   "version": "3.11.5"
  }
 },
 "nbformat": 4,
 "nbformat_minor": 5
}
